{
 "cells": [
  {
   "cell_type": "code",
   "execution_count": 1,
   "metadata": {},
   "outputs": [
    {
     "name": "stdout",
     "output_type": "stream",
     "text": [
      "Đổi tên: 1-1.wav -> 1-1-1.wav\n",
      "Đổi tên: 10-1.wav -> 1-10-1.wav\n",
      "Đổi tên: 11-1.wav -> 1-11-1.wav\n",
      "Đổi tên: 12-1.wav -> 1-12-1.wav\n",
      "Đổi tên: 13-1.wav -> 1-13-1.wav\n",
      "Đổi tên: 14-1.wav -> 1-14-1.wav\n",
      "Đổi tên: 15-0.wav -> 1-15-0.wav\n",
      "Đổi tên: 16-1.wav -> 1-16-1.wav\n",
      "Đổi tên: 17-0.wav -> 1-17-0.wav\n",
      "Đổi tên: 18-1.wav -> 1-18-1.wav\n",
      "Đổi tên: 19-1.wav -> 1-19-1.wav\n",
      "Đổi tên: 2-1.wav -> 1-2-1.wav\n",
      "Đổi tên: 20-1.wav -> 1-20-1.wav\n",
      "Đổi tên: 21-1.wav -> 1-21-1.wav\n",
      "Đổi tên: 22-1.wav -> 1-22-1.wav\n",
      "Đổi tên: 23-0.wav -> 1-23-0.wav\n",
      "Đổi tên: 24-1.wav -> 1-24-1.wav\n",
      "Đổi tên: 25-1.wav -> 1-25-1.wav\n",
      "Đổi tên: 26-1.wav -> 1-26-1.wav\n",
      "Đổi tên: 27-1.wav -> 1-27-1.wav\n",
      "Đổi tên: 28-1.wav -> 1-28-1.wav\n",
      "Đổi tên: 29-1.wav -> 1-29-1.wav\n",
      "Đổi tên: 3-1.wav -> 1-3-1.wav\n",
      "Đổi tên: 30-1.wav -> 1-30-1.wav\n",
      "Đổi tên: 31-1.wav -> 1-31-1.wav\n",
      "Đổi tên: 32-1.wav -> 1-32-1.wav\n",
      "Đổi tên: 33-1.wav -> 1-33-1.wav\n",
      "Đổi tên: 34-1.wav -> 1-34-1.wav\n",
      "Đổi tên: 35-1.wav -> 1-35-1.wav\n",
      "Đổi tên: 36-0.wav -> 1-36-0.wav\n",
      "Đổi tên: 37-0.wav -> 1-37-0.wav\n",
      "Đổi tên: 38-1.wav -> 1-38-1.wav\n",
      "Đổi tên: 39-1.wav -> 1-39-1.wav\n",
      "Đổi tên: 4-1.wav -> 1-4-1.wav\n",
      "Đổi tên: 40-1.wav -> 1-40-1.wav\n",
      "Đổi tên: 41-1.wav -> 1-41-1.wav\n",
      "Đổi tên: 42-1.wav -> 1-42-1.wav\n",
      "Đổi tên: 5-1.wav -> 1-5-1.wav\n",
      "Đổi tên: 6-1.wav -> 1-6-1.wav\n",
      "Đổi tên: 7-0.wav -> 1-7-0.wav\n",
      "Đổi tên: 8-1.wav -> 1-8-1.wav\n",
      "Đổi tên: 9-1.wav -> 1-9-1.wav\n"
     ]
    }
   ],
   "source": [
    "import os\n",
    "\n",
    "# Đường dẫn tới folder chứa file audio\n",
    "folder_path = \"D:/NextX/audio_sentiment_analysis_dataset\"\n",
    "\n",
    "# Duyệt qua các file trong folder và đổi tên\n",
    "def rename_audio_files_in_folder(folder_path):\n",
    "    for filename in os.listdir(folder_path):\n",
    "        # Kiểm tra xem file có phải định dạng b-c.wav\n",
    "        if filename.count('-') == 1 and filename.endswith('.wav'):\n",
    "            # Tạo tên file mới\n",
    "            new_filename = f\"1-{filename}\"\n",
    "            # Đường dẫn cũ và mới\n",
    "            old_path = os.path.join(folder_path, filename)\n",
    "            new_path = os.path.join(folder_path, new_filename)\n",
    "            # Đổi tên file\n",
    "            os.rename(old_path, new_path)\n",
    "            print(f\"Đổi tên: {filename} -> {new_filename}\")\n",
    "\n",
    "# Gọi hàm\n",
    "rename_audio_files_in_folder(folder_path)\n"
   ]
  },
  {
   "cell_type": "code",
   "execution_count": 1,
   "metadata": {},
   "outputs": [
    {
     "name": "stdout",
     "output_type": "stream",
     "text": [
      "Đã tạo xong file train.csv và test.csv!\n"
     ]
    }
   ],
   "source": [
    "import os\n",
    "import csv\n",
    "import random\n",
    "from sklearn.model_selection import train_test_split\n",
    "\n",
    "# Đường dẫn đến folder chứa các file audio\n",
    "audio_folder = \"D:/NextX/audio_sentiment_analysis_dataset\"\n",
    "\n",
    "path_relative = \"/kaggle/input/audio-demo-dataset\"\n",
    "# Hàm xử lý để lấy class_id từ tên file\n",
    "def extract_class_id(file_name):\n",
    "    return file_name.split('-')[-1].split('.')[0]\n",
    "\n",
    "# Lấy danh sách các file audio trong folder\n",
    "audio_files = [f for f in os.listdir(audio_folder) if f.endswith('.wav')]\n",
    "\n",
    "# Tạo danh sách chứa thông tin file audio\n",
    "data = []\n",
    "for file_name in audio_files:\n",
    "    class_id = extract_class_id(file_name)\n",
    "    relative_path = os.path.join(path_relative, file_name)\n",
    "    data.append([file_name, class_id, relative_path])\n",
    "\n",
    "# Chia dữ liệu thành 70% train và 30% test\n",
    "train_data, test_data = train_test_split(data, test_size=0.3, random_state=42)\n",
    "\n",
    "# Hàm tạo file CSV\n",
    "def write_csv(file_path, data):\n",
    "    with open(file_path, mode='w', newline='', encoding='utf-8') as file:\n",
    "        writer = csv.writer(file)\n",
    "        writer.writerow([\"file_name\", \"class_id\", \"relative_path\"])  # Ghi header\n",
    "        writer.writerows(data)\n",
    "\n",
    "# Ghi dữ liệu vào các file CSV\n",
    "write_csv(\"train.csv\", train_data)\n",
    "write_csv(\"test.csv\", test_data)\n",
    "\n",
    "print(\"Đã tạo xong file train.csv và test.csv!\")\n"
   ]
  },
  {
   "cell_type": "code",
   "execution_count": null,
   "metadata": {},
   "outputs": [],
   "source": []
  }
 ],
 "metadata": {
  "kernelspec": {
   "display_name": "Python 3",
   "language": "python",
   "name": "python3"
  },
  "language_info": {
   "codemirror_mode": {
    "name": "ipython",
    "version": 3
   },
   "file_extension": ".py",
   "mimetype": "text/x-python",
   "name": "python",
   "nbconvert_exporter": "python",
   "pygments_lexer": "ipython3",
   "version": "3.11.6"
  }
 },
 "nbformat": 4,
 "nbformat_minor": 2
}
